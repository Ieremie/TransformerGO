{
 "cells": [
  {
   "cell_type": "code",
   "execution_count": 1,
   "metadata": {},
   "outputs": [],
   "source": [
    "import urllib.request\n",
    "import json \n",
    "import collections\n",
    "import pandas as pd\n",
    "import numpy as np"
   ]
  },
  {
   "cell_type": "code",
   "execution_count": 2,
   "metadata": {},
   "outputs": [],
   "source": [
    "def download_ontology(url = 'http://release.geneontology.org/2018-09-05/ontology/go-basic.obo',\n",
    "                      save_path = r'go-basic.obo'):\n",
    "    urllib.request.urlretrieve(url, save_path)\n",
    "    return"
   ]
  },
  {
   "cell_type": "code",
   "execution_count": 4,
   "metadata": {},
   "outputs": [],
   "source": [
    "def obo_file_to_dict(filename):\n",
    "    \n",
    "    \"\"\" Function that reads an obo file and creates a GO dict with information\n",
    "\n",
    "    Args:\n",
    "        filename (string): path to the .obo file \n",
    "\n",
    "    Returns:\n",
    "    dict: dictionary containing mapping GO -> [info about relations,names,definition]\n",
    "    list: list that contains the unique tags in the dictionary\n",
    "    \"\"\"\n",
    "    \n",
    "    ONLY_ONE_ALLOWED_PER_STANZA = set([\"id\", \"name\", \"def\", \"comment\"])\n",
    "    unique_tags = set([])\n",
    "\n",
    "    current_type = None\n",
    "    current_dict = None\n",
    "    obo_dict = collections.OrderedDict()\n",
    "    with open(filename) as lines: \n",
    "  \n",
    "        for line in lines:\n",
    "        \n",
    "            #ignore the information from the head of the file\n",
    "            if line.startswith(\"[\"):\n",
    "                current_type = line.strip(\"[]\\n\")\n",
    "                continue\n",
    "            if current_type != \"Term\":\n",
    "                continue\n",
    "        \n",
    "            #remove new-line character and comments\n",
    "            line = line.strip().split(\"!\")[0]\n",
    "            if len(line) == 0:\n",
    "                continue\n",
    "            \n",
    "            #take line and divide into tag and value\n",
    "            line = line.split(\": \")\n",
    "            tag = line[0]\n",
    "            value = line[1]\n",
    "        \n",
    "            unique_tags.add(tag)\n",
    "        \n",
    "            #create new record for the new GO term\n",
    "            if tag == \"id\":\n",
    "                current_record = collections.defaultdict(list)\n",
    "                obo_dict[value] = current_record\n",
    "            \n",
    "            if tag in current_record and tag in ONLY_ONE_ALLOWED_PER_STANZA:\n",
    "                raise ValueError(\"more than one '%s' found in '%s' \" % (tag, \", \".join([current_record[tag], value])) )\n",
    "        \n",
    "            current_record[tag].append(value)\n",
    "            \n",
    "    return obo_dict, unique_tags"
   ]
  },
  {
   "cell_type": "code",
   "execution_count": 5,
   "metadata": {},
   "outputs": [],
   "source": [
    "def obo_dict_to_pandas(obo_dict, unique_tags):\n",
    "    \n",
    "    \"\"\" Function that creates a .csv file from dictionary information\n",
    "    Args:\n",
    "        obo_dict (dictionary): information about each GO term\n",
    "        unique_tags (list): column names of GO information (id, name, is_a etc)\n",
    "\n",
    "    Returns:\n",
    "    panda: returns the .csv file created\n",
    "    \"\"\"\n",
    "    obo_panda = pd.DataFrame(columns = list(unique_tags))\n",
    "    list_of_rows = []\n",
    "    \n",
    "    for key, dicto in obo_dict.items():\n",
    "        new_row = pd.DataFrame([dicto])\n",
    "        list_of_rows.append(new_row)\n",
    "    \n",
    "    obo_panda = pd.concat(list_of_rows, axis=0)    \n",
    "    \n",
    "    return obo_panda"
   ]
  },
  {
   "cell_type": "code",
   "execution_count": 6,
   "metadata": {},
   "outputs": [],
   "source": [
    "filename = '../datasets/transformerGO-dataset/go-terms/go-basic.obo'\n",
    "obo_dict, unique_tags = obo_file_to_dict(filename)\n",
    "obo_panda = obo_dict_to_pandas(obo_dict, unique_tags)\n",
    "obo_panda.to_csv(filename + \".csv\", index=False)"
   ]
  }
 ],
 "metadata": {
  "kernelspec": {
   "display_name": "Python 3 (ipykernel)",
   "language": "python",
   "name": "python3"
  },
  "language_info": {
   "codemirror_mode": {
    "name": "ipython",
    "version": 3
   },
   "file_extension": ".py",
   "mimetype": "text/x-python",
   "name": "python",
   "nbconvert_exporter": "python",
   "pygments_lexer": "ipython3",
   "version": "3.8.11"
  }
 },
 "nbformat": 4,
 "nbformat_minor": 4
}
