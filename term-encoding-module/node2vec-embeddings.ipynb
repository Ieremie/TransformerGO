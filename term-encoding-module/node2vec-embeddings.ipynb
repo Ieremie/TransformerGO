{
 "cells": [
  {
   "cell_type": "code",
   "execution_count": 1,
   "metadata": {},
   "outputs": [],
   "source": [
    "import pandas as pd\n",
    "from collections import defaultdict\n",
    "import math\n",
    "import pickle"
   ]
  },
  {
   "cell_type": "code",
   "execution_count": 2,
   "metadata": {},
   "outputs": [],
   "source": [
    "def obo_csv_trim(csv_path = 'go-basic.obo.csv'):\n",
    "    \n",
    "    \"\"\"\n",
    "    Function that selects only the necessary \n",
    "    values related to GO terms\n",
    "    :return CSV panda that is filtered \n",
    "    \"\"\"\n",
    "    \n",
    "    go_terms = pd.read_csv(csv_path)\n",
    "    \n",
    "    #get only those GO terms that are not obsolete (not good anymore)\n",
    "    valid_go_terms = go_terms.loc[go_terms['is_obsolete'].isna() ]\n",
    "\n",
    "    #selecting only those relationships mentioned in the paper\n",
    "    terms_for_node2vec = valid_go_terms[[\"id\", \"is_a\", \"relationship\", \"namespace\"]]\n",
    "    terms_for_node2vec['id'] = terms_for_node2vec['id'].apply(lambda x: x.strip(\"['']\")) \n",
    "    terms_for_node2vec['is_a'] = terms_for_node2vec['is_a'].apply(lambda x:  x.strip(\"[']\").replace(' ', '').split(\"','\") if type(x) is str else x) \n",
    "    terms_for_node2vec['relationship'] = terms_for_node2vec['relationship'].apply(lambda x:  x.strip(\"[]\").split(\", \") if type(x) is str else x) \n",
    "    \n",
    "    terms_for_node2vec['namespace'] = terms_for_node2vec['namespace'].apply(lambda x:  x.strip(\"['']\") if type(x) is str else x) \n",
    "    terms_for_node2vec.reset_index(inplace=True, drop = True)\n",
    "    terms_for_node2vec['index_mapping'] = terms_for_node2vec.index\n",
    "    \n",
    "    return terms_for_node2vec"
   ]
  },
  {
   "cell_type": "code",
   "execution_count": 3,
   "metadata": {},
   "outputs": [],
   "source": [
    "def create_edge_list(terms_for_node2vec):\n",
    "    \n",
    "    \"\"\"\n",
    "    Function that takes all the node2vec terms\n",
    "    adds all the relationships of type 'is_a' and 'part_of'\n",
    "    :return lists of all the edges\n",
    "    \"\"\"\n",
    "    \n",
    "    is_a_dict = dict(zip(terms_for_node2vec[\"index_mapping\"].values,\n",
    "                     terms_for_node2vec[\"is_a\"].values))\n",
    "    part_of_dict = dict(zip(terms_for_node2vec[\"index_mapping\"].values,\n",
    "                     terms_for_node2vec[\"relationship\"].values))\n",
    "    go_to_index_dict = dict(zip(terms_for_node2vec[\"id\"].values,\n",
    "                     terms_for_node2vec[\"index_mapping\"].values))\n",
    "\n",
    "    go_graph_edges = defaultdict(list)\n",
    "\n",
    "    #adding all the 'is_a' edges\n",
    "    for i, is_a_list in is_a_dict.items():\n",
    "        if type(is_a_list) is list: #non root GO term that does not have a 'is_a'\n",
    "            for is_a in is_a_list:\n",
    "                if type(is_a) is str:\n",
    "                    go_graph_edges[i].append(go_to_index_dict[is_a])            \n",
    "    \n",
    "    #adding all the 'part_of' edges\n",
    "    for i, part_of_list in part_of_dict.items():\n",
    "        if type(part_of_list) is list: #no relationship present\n",
    "            for part_of in part_of_list:\n",
    "                if type(part_of) is str and \"part_of\" in part_of:\n",
    "                    part_of =  part_of.strip(\"'part_of \").replace(\"''\", \"\")\n",
    "                    go_graph_edges[i].append(go_to_index_dict[part_of])    \n",
    "    return go_graph_edges"
   ]
  },
  {
   "cell_type": "code",
   "execution_count": 5,
   "metadata": {},
   "outputs": [],
   "source": [
    "def save_go_mapping(terms_for_node2vec, save_path = 'go_id_dict'):\n",
    "    \n",
    "    \"\"\"\n",
    "    saves the GO terms name with the specific ID\n",
    "    dict of  |GO name --> ID |\n",
    "    \"\"\"\n",
    "    \n",
    "    go_to_index_dict = dict(zip(terms_for_node2vec[\"id\"].values,\n",
    "                     terms_for_node2vec[\"index_mapping\"].values))\n",
    "    with open(save_path, 'wb') as fp:\n",
    "        pickle.dump(go_to_index_dict, fp, protocol=pickle.HIGHEST_PROTOCOL)\n",
    "    return"
   ]
  },
  {
   "cell_type": "code",
   "execution_count": 6,
   "metadata": {},
   "outputs": [],
   "source": [
    "def write_edge_list(go_graph_edges, save_path = \"graph/go-terms.edgelist\"):\n",
    "    \n",
    "    \"\"\"Writes all the GO 'is_a' and 'part_of' to a file: ex: 1->2\n",
    "    Args:\n",
    "        go_graph_edges (dict): dict of GO relations ex. GO -> [GO1, GO2, ...] \n",
    "    \"\"\"\n",
    "    \n",
    "    with open(save_path, \"w\") as f:  \n",
    "        for node, edge_list in go_graph_edges.items():\n",
    "            for edge in edge_list:\n",
    "                #adding 1 as the weight\n",
    "                f.write(str(node) + \"  \" + str(edge)) #+ \" \" + str(1)) \n",
    "                f.write(\"\\n\")\n",
    "    return"
   ]
  },
  {
   "cell_type": "code",
   "execution_count": 7,
   "metadata": {},
   "outputs": [],
   "source": [
    "def save_go_process(terms_for_node2vec, save_path = 'go_namespace_dict'):\n",
    "    \n",
    "    \"\"\"\n",
    "    Function that saves the namespace MF,CC, BP\n",
    "    with the id as a dict   |id --> onthology|\n",
    "    \"\"\"\n",
    "    go_namespace_dict = dict(zip(terms_for_node2vec[\"id\"].values,\n",
    "                     terms_for_node2vec[\"namespace\"].values))  \n",
    "    with open(save_path, 'wb') as fp:\n",
    "        pickle.dump(go_namespace_dict, fp, protocol=pickle.HIGHEST_PROTOCOL)\n",
    "    return"
   ]
  },
  {
   "cell_type": "code",
   "execution_count": 9,
   "metadata": {},
   "outputs": [
    {
     "name": "stderr",
     "output_type": "stream",
     "text": [
      "<ipython-input-2-c469f0a4135e>:16: SettingWithCopyWarning: \n",
      "A value is trying to be set on a copy of a slice from a DataFrame.\n",
      "Try using .loc[row_indexer,col_indexer] = value instead\n",
      "\n",
      "See the caveats in the documentation: https://pandas.pydata.org/pandas-docs/stable/user_guide/indexing.html#returning-a-view-versus-a-copy\n",
      "  terms_for_node2vec['id'] = terms_for_node2vec['id'].apply(lambda x: x.strip(\"['']\"))\n",
      "<ipython-input-2-c469f0a4135e>:17: SettingWithCopyWarning: \n",
      "A value is trying to be set on a copy of a slice from a DataFrame.\n",
      "Try using .loc[row_indexer,col_indexer] = value instead\n",
      "\n",
      "See the caveats in the documentation: https://pandas.pydata.org/pandas-docs/stable/user_guide/indexing.html#returning-a-view-versus-a-copy\n",
      "  terms_for_node2vec['is_a'] = terms_for_node2vec['is_a'].apply(lambda x:  x.strip(\"[']\").replace(' ', '').split(\"','\") if type(x) is str else x)\n",
      "<ipython-input-2-c469f0a4135e>:18: SettingWithCopyWarning: \n",
      "A value is trying to be set on a copy of a slice from a DataFrame.\n",
      "Try using .loc[row_indexer,col_indexer] = value instead\n",
      "\n",
      "See the caveats in the documentation: https://pandas.pydata.org/pandas-docs/stable/user_guide/indexing.html#returning-a-view-versus-a-copy\n",
      "  terms_for_node2vec['relationship'] = terms_for_node2vec['relationship'].apply(lambda x:  x.strip(\"[]\").split(\", \") if type(x) is str else x)\n",
      "<ipython-input-2-c469f0a4135e>:20: SettingWithCopyWarning: \n",
      "A value is trying to be set on a copy of a slice from a DataFrame.\n",
      "Try using .loc[row_indexer,col_indexer] = value instead\n",
      "\n",
      "See the caveats in the documentation: https://pandas.pydata.org/pandas-docs/stable/user_guide/indexing.html#returning-a-view-versus-a-copy\n",
      "  terms_for_node2vec['namespace'] = terms_for_node2vec['namespace'].apply(lambda x:  x.strip(\"['']\") if type(x) is str else x)\n",
      "<ipython-input-2-c469f0a4135e>:22: SettingWithCopyWarning: \n",
      "A value is trying to be set on a copy of a slice from a DataFrame.\n",
      "Try using .loc[row_indexer,col_indexer] = value instead\n",
      "\n",
      "See the caveats in the documentation: https://pandas.pydata.org/pandas-docs/stable/user_guide/indexing.html#returning-a-view-versus-a-copy\n",
      "  terms_for_node2vec['index_mapping'] = terms_for_node2vec.index\n"
     ]
    }
   ],
   "source": [
    "folder_path = '../datasets/transformerGO-dataset/go-terms/'\n",
    "terms_for_node2vec = obo_csv_trim(csv_path = folder_path + 'go-basic.obo.csv')\n",
    "save_go_mapping(terms_for_node2vec, save_path = folder_path + 'go_id_dict')\n",
    "\n",
    "go_graph_edges = create_edge_list(terms_for_node2vec)\n",
    "write_edge_list(go_graph_edges, save_path = folder_path + \"graph/go-terms.edgelist\")\n",
    "\n",
    "save_go_process(terms_for_node2vec, save_path = folder_path + 'go_namespace_dict')"
   ]
  }
 ],
 "metadata": {
  "kernelspec": {
   "display_name": "Python [conda env:ppi-phd]",
   "language": "python",
   "name": "conda-env-ppi-phd-py"
  },
  "language_info": {
   "codemirror_mode": {
    "name": "ipython",
    "version": 3
   },
   "file_extension": ".py",
   "mimetype": "text/x-python",
   "name": "python",
   "nbconvert_exporter": "python",
   "pygments_lexer": "ipython3",
   "version": "3.9.1"
  }
 },
 "nbformat": 4,
 "nbformat_minor": 4
}
