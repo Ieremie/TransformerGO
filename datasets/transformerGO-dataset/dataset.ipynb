{
 "cells": [
  {
   "cell_type": "code",
   "execution_count": 2,
   "id": "744ab7b4-1170-4990-8bea-c045d40964dc",
   "metadata": {},
   "outputs": [],
   "source": [
    "import urllib.request\n",
    "import gzip\n",
    "from tqdm import tqdm as prog_bar\n",
    "\n",
    "import random\n",
    "random.seed(10)\n",
    "\n",
    "from pathlib import Path"
   ]
  },
  {
   "cell_type": "code",
   "execution_count": 2,
   "id": "84111668-c9b6-47c0-ab99-041c44ed3aa1",
   "metadata": {},
   "outputs": [],
   "source": [
    "def download_file(url, save_path):\n",
    "    urllib.request.urlretrieve(url, save_path)"
   ]
  },
  {
   "cell_type": "code",
   "execution_count": 10,
   "id": "bebc0a34-def9-4cfd-b572-2a2b3af42bef",
   "metadata": {},
   "outputs": [],
   "source": [
    "#download the most recent gene ontology (obo file)\n",
    "url = 'http://purl.obolibrary.org/obo/go/go-basic.obo'\n",
    "save_paht = 'go-basic.obo'\n",
    "download_file()\n",
    "print(\"Ontology downloaded\")\n",
    "\n",
    "#download the most recent Human protein association file\n",
    "url = 'http://geneontology.org/gene-associations/goa_human.gaf.gz'\n",
    "save_path = 'goa_human.gaf.gz'\n",
    "download_file(url, save_path)\n",
    "print(\"Human association file downloaded\")\n",
    "\n",
    "#download the most recent Yeast protein association file\n",
    "url = 'http://current.geneontology.org/annotations/sgd.gaf.gz'\n",
    "save_path = 'sgd.gaf.gz'\n",
    "download_file(url, save_path)\n",
    "print(\"Yeast association file downloaded\")"
   ]
  },
  {
   "cell_type": "code",
   "execution_count": 13,
   "id": "3d281209-17c5-4bc7-82a3-d8379ecb3b13",
   "metadata": {},
   "outputs": [
    {
     "name": "stdout",
     "output_type": "stream",
     "text": [
      "Yeast STRING-DB interaction file downloaded\n",
      "Humna STRING-DB interaction file downloaded\n"
     ]
    }
   ],
   "source": [
    "#download interaction data for Yeast (4932)\n",
    "url = 'https://stringdb-static.org/download/protein.links.v11.5/4932.protein.links.v11.5.txt.gz'\n",
    "save_path = '4932.protein.links.v11.5.txt.gz'\n",
    "download_file(url, save_path)\n",
    "print(\"Yeast STRING-DB interaction file downloaded\")\n",
    "\n",
    "#download interaction data for Human (9606)\n",
    "url = 'https://stringdb-static.org/download/protein.links.v11.5/9606.protein.links.v11.5.txt.gz'\n",
    "save_path = '9606.protein.links.v11.5.txt.gz'\n",
    "download_file(url, save_path)\n",
    "print(\"Human STRING-DB interaction file downloaded\")"
   ]
  },
  {
   "cell_type": "code",
   "execution_count": 4,
   "id": "12b66be5-1562-43a2-abd0-3080a9643426",
   "metadata": {},
   "outputs": [
    {
     "name": "stdout",
     "output_type": "stream",
     "text": [
      "Yeast STRING-DB aliases file downloaded\n",
      "Human STRING-DB aliases file downloaded\n"
     ]
    }
   ],
   "source": [
    "#download protein aliases for Yeast proteins (4932)\n",
    "url = 'https://stringdb-static.org/download/protein.aliases.v11.5/4932.protein.aliases.v11.5.txt.gz'\n",
    "save_path = '4932.protein.aliases.v11.5.txt.gz'\n",
    "download_file(url, save_path)\n",
    "print(\"Yeast STRING-DB aliases file downloaded\")\n",
    "\n",
    "#download protein aliases for Human portiens (9606)\n",
    "url = 'https://stringdb-static.org/download/protein.aliases.v11.5/9606.protein.aliases.v11.5.txt.gz'\n",
    "save_path = '9606.protein.aliases.v11.5.txt.gz'\n",
    "download_file(url, save_path)\n",
    "print(\"Human STRING-DB aliases file downloaded\")"
   ]
  },
  {
   "cell_type": "code",
   "execution_count": 6,
   "id": "9d7edd39-ed5c-46ee-bd5b-cfe1c8947c65",
   "metadata": {},
   "outputs": [],
   "source": [
    "def save_interactions(filename, interactions):\n",
    "    with open(filename, 'w') as f:\n",
    "        for protA, protB in interactions:\n",
    "            f.write(f'{protA}\\t{protB}\\n')"
   ]
  },
  {
   "cell_type": "code",
   "execution_count": 7,
   "id": "d1ecc70e-f7d2-4029-82b9-23eb0b7f658e",
   "metadata": {},
   "outputs": [],
   "source": [
    "def generate_dataset(protein_links_path, poz_intr_file_name, neg_intr_file_name, score_treshold = 700):\n",
    "    self_ppis = 0\n",
    "    all_prot_nr = 0\n",
    "    poz_proteins = []\n",
    "    pozitive_intr = []\n",
    "    negative_intr = []\n",
    "    intr_sets = {}\n",
    "    line_nr = 0\n",
    "    \n",
    "    # POSITIVE INTERACTIONS\n",
    "    print(\"Filtering POSITIVE interactions...\")\n",
    "    with gzip.open(protein_links_path, 'rt') as f:\n",
    "        next(f) # skip information about file creation etc.\n",
    "        for line in f:\n",
    "            line_nr += 1\n",
    "            protA, protB, score = line.strip().split()\n",
    "                \n",
    "            #empty sets for each protein    \n",
    "            intr_sets[protA] = intr_sets.get(protA, set())\n",
    "            intr_sets[protB] = intr_sets.get(protB, set())\n",
    "    \n",
    "            #add only interactions over treshold and if it has not been added before\n",
    "            if float(score) >= score_treshold and protA not in intr_sets[protB]:\n",
    "                pozitive_intr.append((protA, protB))\n",
    "                poz_proteins.append(protA)\n",
    "                poz_proteins.append(protB)\n",
    "            \n",
    "                if protA == protB:\n",
    "                    self_ppis += 1\n",
    "            \n",
    "            #add each interaction partner seen in STRING-DB   \n",
    "            if protA not in intr_sets[protB]:\n",
    "                intr_sets[protA].add(protB)\n",
    "                intr_sets[protB].add(protA)\n",
    "                \n",
    "                \n",
    "    print(\"Self interactions in STRING-DB file:\" , self_ppis)\n",
    "    print('Total number of positive interactions in STRING-DB file:', line_nr)\n",
    "    print(f'Total number of positive interactions with confidence >= {score_treshold}:', len(pozitive_intr))\n",
    "    print('Total number of proteins in the selected positive interactions:', len(set(poz_proteins)), \"\\n\")\n",
    "    \n",
    "    print('Saving POSITIVE interactions to files...')\n",
    "    save_interactions(poz_intr_file_name, pozitive_intr)\n",
    "    \n",
    "        \n",
    "    # NEGATIVE INTERACTIONS\n",
    "    print(\"Generating NEGATIVE interactions that do not appear in STRING-DB (regardless of confidence score)...\")\n",
    "    neg_proteins = []   \n",
    "    while len(negative_intr) < len(pozitive_intr):\n",
    "        protA, protB  = random.sample(poz_proteins, 2)\n",
    "        \n",
    "        #check if interactions has already been generated\n",
    "        if (protA,protB) in negative_intr or (protB,protA) in negative_intr:\n",
    "            continue\n",
    "                \n",
    "        #check if interaction is not present in STRING-DB\n",
    "        if protA not in intr_sets[protB]:\n",
    "            negative_intr.append((protA, protB))\n",
    "            neg_proteins.append(protA)\n",
    "            neg_proteins.append(protB)\n",
    "\n",
    "            if len(negative_intr) % 20000 == 0:\n",
    "                print(\"Negative interactions added: \", len(negative_intr), f\"/{len(pozitive_intr)}\")\n",
    "            \n",
    "    print('Total number of negative interactions', len(negative_intr))\n",
    "    print('Total number of proteins in the selected positive interactions:', len(set(neg_proteins)), \"\\n\")\n",
    "    \n",
    "    print('Saving NEGATIVE interactions to files...')\n",
    "    save_interactions(neg_intr_file_name, negative_intr)"
   ]
  },
  {
   "cell_type": "code",
   "execution_count": 9,
   "id": "1ba68dcb-3ce0-49b5-a679-43acefff6d6d",
   "metadata": {},
   "outputs": [
    {
     "name": "stdout",
     "output_type": "stream",
     "text": [
      "Filtering POSITIVE interactions...\n",
      "Self interactions in STRING-DB file: 0\n",
      "Total number of positive interactions in STRING-DB file: 11938498\n",
      "Total number of positive interactions with confidence >= 700: 252984\n",
      "Total number of proteins in the selected positive interactions: 16814 \n",
      "\n",
      "Saving POSITIVE interactions to files...\n",
      "Generating NEGATIVE interactions that do not appear in STRING-DB (regardless of confidence score)...\n",
      "Negative interactions added:  20000 /252984\n",
      "Negative interactions added:  40000 /252984\n",
      "Negative interactions added:  60000 /252984\n",
      "Negative interactions added:  80000 /252984\n",
      "Negative interactions added:  100000 /252984\n",
      "Negative interactions added:  120000 /252984\n",
      "Negative interactions added:  140000 /252984\n",
      "Negative interactions added:  160000 /252984\n",
      "Negative interactions added:  180000 /252984\n",
      "Negative interactions added:  200000 /252984\n",
      "Negative interactions added:  220000 /252984\n",
      "Negative interactions added:  240000 /252984\n",
      "Total number of negative interactions 252984\n",
      "Total number of proteins in the selected positive interactions: 16199 \n",
      "\n",
      "Saving NEGATIVE interactions to files...\n"
     ]
    }
   ],
   "source": [
    "organism = 9606\n",
    "folder = 'interaction-datasets'\n",
    "Path(folder).mkdir(parents=True, exist_ok=True)\n",
    "\n",
    "generate_dataset(f'stringDB-files/{organism}.protein.links.v11.5.txt.gz', f'{folder}/{organism}.protein.links.v11.5.txt', f'{folder}/{organism}.protein.negative.v11.5.txt')"
   ]
  },
  {
   "cell_type": "raw",
   "id": "4cd69c8f-e982-4615-8d8f-652522359f80",
   "metadata": {},
   "source": [
    "\n",
    "###YEAST####\n",
    "\n",
    "Filtering POSITIVE interactions...\n",
    "Self interactions in STRING-DB file: 0\n",
    "Total number of positive interactions in STRING-DB file: 1988592\n",
    "Total number of positive interactions with confidence >= 700: 120386\n",
    "Total number of proteins in the selected positive interactions: 5966 \n",
    "\n",
    "Saving POSITIVE interactions to files...\n",
    "Generating NEGATIVE interactions that do not appear in STRING-DB (regardless of confidence score)...\n",
    "Negative interactions added:  20000 /120386\n",
    "Negative interactions added:  40000 /120386\n",
    "Negative interactions added:  60000 /120386\n",
    "Negative interactions added:  80000 /120386\n",
    "Negative interactions added:  100000 /120386\n",
    "Negative interactions added:  120000 /120386\n",
    "Total number of negative interactions 120386\n",
    "Total number of proteins in the selected positive interactions: 5903 \n",
    "\n",
    "Saving NEGATIVE interactions to files...\n",
    "\n",
    "\n",
    "###HUMAN###\n",
    "Filtering POSITIVE interactions...\n",
    "Self interactions in STRING-DB file: 0\n",
    "Total number of positive interactions in STRING-DB file: 11938498\n",
    "Total number of positive interactions with confidence >= 700: 252984\n",
    "Total number of proteins in the selected positive interactions: 16814 \n",
    "\n",
    "Saving POSITIVE interactions to files...\n",
    "Generating NEGATIVE interactions that do not appear in STRING-DB (regardless of confidence score)...\n",
    "Negative interactions added:  20000 /252984\n",
    "Negative interactions added:  40000 /252984\n",
    "Negative interactions added:  60000 /252984\n",
    "Negative interactions added:  80000 /252984\n",
    "Negative interactions added:  100000 /252984\n",
    "Negative interactions added:  120000 /252984\n",
    "Negative interactions added:  140000 /252984\n",
    "Negative interactions added:  160000 /252984\n",
    "Negative interactions added:  180000 /252984\n",
    "Negative interactions added:  200000 /252984\n",
    "Negative interactions added:  220000 /252984\n",
    "Negative interactions added:  240000 /252984\n",
    "Total number of negative interactions 252984\n",
    "Total number of proteins in the selected positive interactions: 16199 "
   ]
  }
 ],
 "metadata": {
  "kernelspec": {
   "display_name": "Python [conda env:ppi-phd]",
   "language": "python",
   "name": "conda-env-ppi-phd-py"
  },
  "language_info": {
   "codemirror_mode": {
    "name": "ipython",
    "version": 3
   },
   "file_extension": ".py",
   "mimetype": "text/x-python",
   "name": "python",
   "nbconvert_exporter": "python",
   "pygments_lexer": "ipython3",
   "version": "3.9.1"
  }
 },
 "nbformat": 4,
 "nbformat_minor": 5
}
