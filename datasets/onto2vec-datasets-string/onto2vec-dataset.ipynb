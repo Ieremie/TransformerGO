{
 "cells": [
  {
   "cell_type": "code",
   "execution_count": 1,
   "id": "charged-secretary",
   "metadata": {},
   "outputs": [
    {
     "name": "stdout",
     "output_type": "stream",
     "text": [
      "self ppis: 0\n",
      "Total number of interactions confidence > 700: 420534\n",
      "Total number of proteins: 17185\n",
      "Total number of interactions in string file: 11759454\n"
     ]
    }
   ],
   "source": [
    "'''Code adapted from: https://github.com/bio-ontology-research-group/machine-learning-with-ontologies'''\n",
    "\n",
    "import gzip\n",
    "interactions = {}\n",
    "data = []\n",
    "# Load data\n",
    "org_id = '9606' # Change to 9606 for Human\n",
    "\n",
    "lines = 0\n",
    "self_ppis = 0\n",
    "with gzip.open(f'data/{org_id}.protein.links.v11.0.txt.gz', 'rt') as f:\n",
    "    next(f) # Skip header\n",
    "    for line in f:\n",
    "        lines += 1\n",
    "        p1, p2, score = line.strip().split()\n",
    "        if float(score) < 700: # Filter high confidence interactions\n",
    "            continue\n",
    "        if p1 not in interactions:\n",
    "            interactions[p1] = set()\n",
    "        if p2 not in interactions:\n",
    "            interactions[p2] = set()\n",
    "        if p2 not in interactions[p1]:\n",
    "            interactions[p1].add(p2)\n",
    "            interactions[p2].add(p1)\n",
    "            data.append((p1, p2))\n",
    "\n",
    "        if p1 == p2:\n",
    "            self_ppis += 1\n",
    "print(\"self ppis:\" , self_ppis)\n",
    "print('Total number of interactions confidence > 700:', len(data))\n",
    "print('Total number of proteins:', len(interactions.keys()))\n",
    "print('Total number of interactions in string file:', lines)"
   ]
  },
  {
   "cell_type": "code",
   "execution_count": 10,
   "id": "latin-authentication",
   "metadata": {},
   "outputs": [
    {
     "name": "stdout",
     "output_type": "stream",
     "text": [
      "Number of training interactions: 76193\n",
      "Number of validation interactions: 19048\n",
      "Number of testing interactions: 23810\n"
     ]
    }
   ],
   "source": [
    "import numpy as np\n",
    "import math\n",
    "\n",
    "np.random.seed(seed=0) # Fix random seed for reproducibility\n",
    "np.random.shuffle(data)\n",
    "train_n = int(math.ceil(len(data) * 0.8))\n",
    "valid_n = int(math.ceil(train_n * 0.8))\n",
    "train_data = data[:valid_n]\n",
    "valid_data = data[valid_n:train_n]\n",
    "test_data = data[train_n:]\n",
    "print('Number of training interactions:', len(train_data))\n",
    "print('Number of validation interactions:', len(valid_data))\n",
    "print('Number of testing interactions:', len(test_data))"
   ]
  },
  {
   "cell_type": "code",
   "execution_count": 11,
   "id": "local-speed",
   "metadata": {},
   "outputs": [],
   "source": [
    "def save(filename, data):\n",
    "    with open(filename, 'w') as f:\n",
    "        for p1, p2 in data:\n",
    "            f.write(f'{p1}\\t{p2}\\n')\n",
    "            #f.write(f'{p2}\\t{p1}\\n')\n",
    "\n",
    "save(f'data/train/{org_id}.no-mirror.protein.links.v11.0.txt', train_data)\n",
    "save(f'data/valid/{org_id}.no-mirror.protein.links.v11.0.txt', valid_data)\n",
    "save(f'data/test/{org_id}.no-mirror.protein.links.v11.0.txt', test_data)"
   ]
  },
  {
   "cell_type": "code",
   "execution_count": 12,
   "id": "hawaiian-piano",
   "metadata": {},
   "outputs": [
    {
     "name": "stdout",
     "output_type": "stream",
     "text": [
      "0\n"
     ]
    },
    {
     "name": "stderr",
     "output_type": "stream",
     "text": [
      "<ipython-input-12-edb7ba5954b0>:10: DeprecationWarning: Sampling from a set deprecated\n",
      "since Python 3.9 and will be removed in a subsequent version.\n",
      "  s = random.sample(proteins, 2)\n"
     ]
    },
    {
     "name": "stdout",
     "output_type": "stream",
     "text": [
      "10000\n",
      "20000\n",
      "30000\n",
      "40000\n",
      "50000\n",
      "60000\n",
      "70000\n",
      "80000\n",
      "90000\n",
      "100000\n",
      "110000\n",
      "110000\n",
      "Total number of negative interactions: 119051\n",
      "119051\n",
      "Number of negative training interactions: 76193\n",
      "Number of negative validation interactions: 19048\n",
      "Number of negative testing interactions: 23810\n"
     ]
    }
   ],
   "source": [
    "import random\n",
    "proteins =set ()\n",
    "negatives = []\n",
    "for (p1,p2) in data:\n",
    "        proteins.add(p1)\n",
    "        proteins.add(p2)\n",
    "while len(negatives)<len(data):\n",
    "        if(len(negatives) % 10000 == 0):\n",
    "            print(len(negatives))\n",
    "        s = random.sample(proteins, 2)\n",
    "        prot1= s[0]\n",
    "        prot2= s[1]\n",
    "        if (prot1,prot2) in negatives or (prot2,prot1) in negatives :\n",
    "                 continue\n",
    "        if prot1 not in interactions[prot2]:\n",
    "                 negatives.append((prot1, prot2))\n",
    "print('Total number of negative interactions:', len(negatives))\n",
    "# Split negative data\n",
    "neg_train_data = negatives[:valid_n]\n",
    "neg_valid_data = negatives[valid_n:train_n]\n",
    "neg_test_data = negatives[train_n:]\n",
    "print(len(negatives))\n",
    "print('Number of negative training interactions:', len(neg_train_data))\n",
    "print('Number of negative validation interactions:', len(neg_valid_data))\n",
    "print('Number of negative testing interactions:', len(neg_test_data))"
   ]
  },
  {
   "cell_type": "code",
   "execution_count": 13,
   "id": "simplified-register",
   "metadata": {},
   "outputs": [],
   "source": [
    "save(f'data/train/{org_id}.no-mirror.negative_interactions.txt', neg_train_data)\n",
    "save(f'data/valid/{org_id}.no-mirror.negative_interactions.txt', neg_valid_data)\n",
    "save(f'data/test/{org_id}.no-mirror.negative_interactions.txt', neg_test_data)"
   ]
  }
 ],
 "metadata": {
  "kernelspec": {
   "display_name": "Python [conda env:ppi-phd]",
   "language": "python",
   "name": "conda-env-ppi-phd-py"
  },
  "language_info": {
   "codemirror_mode": {
    "name": "ipython",
    "version": 3
   },
   "file_extension": ".py",
   "mimetype": "text/x-python",
   "name": "python",
   "nbconvert_exporter": "python",
   "pygments_lexer": "ipython3",
   "version": "3.9.1"
  }
 },
 "nbformat": 4,
 "nbformat_minor": 5
}
