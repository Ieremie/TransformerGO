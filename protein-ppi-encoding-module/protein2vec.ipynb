{
 "cells": [
  {
   "cell_type": "code",
   "execution_count": 3,
   "metadata": {},
   "outputs": [],
   "source": [
    "import torch\n",
    "import torch.nn as nn\n",
    "from torch.nn.utils.rnn import pad_sequence\n",
    "from torch.nn.utils.rnn import pack_padded_sequence"
   ]
  },
  {
   "cell_type": "code",
   "execution_count": 4,
   "metadata": {},
   "outputs": [],
   "source": [
    "class PROTEIN2VEC(nn.Module):\n",
    "    def __init__(self, input_dim, hidden_dim, fc1_dim, fc2_dim, fc3_dim, fc4_dim, dropout):\n",
    "        super().__init__()\n",
    "        \n",
    "        self.rnnA = nn.LSTM(input_dim, hidden_dim)\n",
    "        self.rnnB = nn.LSTM(input_dim, hidden_dim)\n",
    "        \n",
    "        self.fc1 = nn.Linear(hidden_dim * 2, fc1_dim)\n",
    "        self.fc2 = nn.Linear(fc1_dim, fc2_dim)\n",
    "        self.fc3 = nn.Linear(fc2_dim, fc3_dim)\n",
    "        self.fc4 = nn.Linear(fc3_dim, fc4_dim)\n",
    "        self.dropout = nn.Dropout(dropout)\n",
    "        \n",
    "    def forward(self, emb_proteinA, emb_proteinB, seq_lengths_A, seq_lengths_B):\n",
    "        \n",
    "        emb_proteinA_pad = pack_padded_sequence(emb_proteinA, seq_lengths_A, batch_first=True, enforce_sorted = False)\n",
    "        emb_proteinB_pad = pack_padded_sequence(emb_proteinB, seq_lengths_A, batch_first=True, enforce_sorted = False)\n",
    "        \n",
    "        packed_outputA, (hiddenA, cellA) = self.rnnA(emb_proteinA_pad)\n",
    "        packed_outputA, (hiddenB, cellB) = self.rnnB(emb_proteinB_pad)\n",
    "        \n",
    "        relu = nn.ReLU()\n",
    "        \n",
    "        fc1_output = self.fc1( self.dropout(torch.cat((hiddenA.squeeze(0), hiddenB.squeeze(0)), 1)) )\n",
    "        fc2_output = self.fc2( self.dropout( relu(fc1_output) ))\n",
    "        fc3_output = self.fc3( self.dropout( relu(fc2_output) ))\n",
    "        fc4_output = self.fc4( self.dropout( relu(fc3_output) ))\n",
    "        \n",
    "        return fc4_output"
   ]
  },
  {
   "cell_type": "code",
   "execution_count": 6,
   "metadata": {},
   "outputs": [],
   "source": [
    "class PROTEIN2VEC_SHARED(nn.Module):\n",
    "    def __init__(self, input_dim, hidden_dim, fc1_dim, fc2_dim, fc3_dim, fc4_dim, dropout):\n",
    "        super().__init__()\n",
    "        \n",
    "        self.rnnA = nn.LSTM(input_dim, hidden_dim)\n",
    "        \n",
    "        self.fc1 = nn.Linear(hidden_dim * 2, fc1_dim)\n",
    "        self.fc2 = nn.Linear(fc1_dim, fc2_dim)\n",
    "        self.fc3 = nn.Linear(fc2_dim, fc3_dim)\n",
    "        self.fc4 = nn.Linear(fc3_dim, fc4_dim)\n",
    "        self.dropout = nn.Dropout(dropout)\n",
    "        \n",
    "    def forward(self, emb_proteinA, emb_proteinB, seq_lengths_A, seq_lengths_B):\n",
    "        \n",
    "        \n",
    "        emb_proteinA_pad = pack_padded_sequence(emb_proteinA, seq_lengths_A, batch_first=True, enforce_sorted = False)\n",
    "        emb_proteinB_pad = pack_padded_sequence(emb_proteinB, seq_lengths_A, batch_first=True, enforce_sorted = False)\n",
    "        \n",
    "        packed_outputA, (hiddenA, cellA) = self.rnnA(emb_proteinA_pad)\n",
    "        packed_outputA, (hiddenB, cellB) = self.rnnA(emb_proteinB_pad)\n",
    "        \n",
    "        relu = nn.ReLU()\n",
    "        \n",
    "        fc1_output = self.fc1( self.dropout(torch.cat((hiddenA.squeeze(0), hiddenB.squeeze(0)), 1)) )\n",
    "        fc2_output = self.fc2( self.dropout( relu(fc1_output) ))\n",
    "        fc3_output = self.fc3( self.dropout( relu(fc2_output) ))\n",
    "        fc4_output = self.fc4( self.dropout( relu(fc3_output) ))\n",
    "        \n",
    "        return fc4_output"
   ]
  }
 ],
 "metadata": {
  "kernelspec": {
   "display_name": "Python [conda env:ppi-phd]",
   "language": "python",
   "name": "conda-env-ppi-phd-py"
  },
  "language_info": {
   "codemirror_mode": {
    "name": "ipython",
    "version": 3
   },
   "file_extension": ".py",
   "mimetype": "text/x-python",
   "name": "python",
   "nbconvert_exporter": "python",
   "pygments_lexer": "ipython3",
   "version": "3.9.1"
  }
 },
 "nbformat": 4,
 "nbformat_minor": 4
}
